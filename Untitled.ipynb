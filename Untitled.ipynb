{
 "cells": [
  {
   "cell_type": "code",
   "execution_count": null,
   "metadata": {},
   "outputs": [],
   "source": [
    "import numpy as np\n",
    "import cv2\n",
    "from matplotlib import pyplot as plt\n",
    "import math\n",
    "\n",
    "\n",
    "img = cv2.imread('img032.jpg')\n",
    "gray = cv2.cvtColor(img, cv2.COLOR_BGR2GRAY)\n",
    "blur = cv2.blur(gray,(3,3))\n",
    "thresh = 255/2\n",
    "maxValue = 255\n",
    "th, dst = cv2.threshold(blur, thresh, maxValue, cv2.THRESH_BINARY_INV)\n",
    "\n",
    "edges = cv2.Canny(img, thresh,maxValue)\n",
    "\n",
    "im2, contours, hierarchy = cv2.findContours(dst, cv2.RETR_TREE, cv2.CHAIN_APPROX_SIMPLE)\n",
    "draw = cv2.drawContours(img, contours, -1, (0, 255, 0), 3)\n",
    "# plt.imshow(draw)\n",
    "ref_area = 0.0\n",
    "max_index = 0\n",
    "for x in range(len(contours)):\n",
    "    area = cv2.contourArea(contours[x])\n",
    "    if area > ref_area:\n",
    "        ref_area = area\n",
    "        max_index = x\n",
    "draw1 = cv2.drawContours(img, contours, max_index, (255, 0, 0), 3)\n",
    "# plt.imshow(draw1)\n",
    "print(ref_area)\n",
    "# cv2.imshow('image',draw1)\n",
    "# cv2.waitKey(0)\n",
    "\n",
    "for c in contours:\n",
    "    # compute the center of the contour\n",
    "    M = cv2.moments(c)\n",
    "    # calculate x,y coordinate of center\n",
    "    if M[\"m00\"] != 0:\n",
    "        cX = int(M[\"m10\"] / M[\"m00\"])\n",
    "        cY = int(M[\"m01\"] / M[\"m00\"])\n",
    "    else:\n",
    "        cX, cY = 0, 0"
   ]
  }
 ],
 "metadata": {
  "kernelspec": {
   "display_name": "Python 3",
   "language": "python",
   "name": "python3"
  },
  "language_info": {
   "codemirror_mode": {
    "name": "ipython",
    "version": 3
   },
   "file_extension": ".py",
   "mimetype": "text/x-python",
   "name": "python",
   "nbconvert_exporter": "python",
   "pygments_lexer": "ipython3",
   "version": "3.7.0"
  }
 },
 "nbformat": 4,
 "nbformat_minor": 2
}
